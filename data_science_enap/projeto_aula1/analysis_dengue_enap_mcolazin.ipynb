{
 "cells": [
  {
   "cell_type": "code",
   "execution_count": 22,
   "metadata": {},
   "outputs": [
    {
     "data": {
      "text/html": [
       "<h1 align=\"center\"> <font color=\"red\"> Análise de Dados sobre a Epidemia de Dengue </h1>\n",
       "<h2 align=\"center\"> <font color=\"blue\"> Aluno: Marcio Colazingari </h2>\n",
       "<br>\n",
       "<h2 align=\"center\"> <font color=\"green\"> Trabalho de Entrega do Curso Enap BootCamp </h2>\n",
       "<h2 align=\"center\"> Módulo 2 - Ciência de Dados </h2>\n",
       "<h2 align=\"center\"> Professor: Professor: Alex Lopes </h2> <br>\n",
       "<h3 align=\"center\"> <font color=\"brown\"> 2020, Escola Nacional de Administração Pública - Enap </h3> \n"
      ],
      "text/plain": [
       "<IPython.core.display.HTML object>"
      ]
     },
     "metadata": {},
     "output_type": "display_data"
    }
   ],
   "source": [
    "%%html\n",
    "<h1 align=\"center\"> <font color=\"red\"> Análise de Dados sobre a Epidemia de Dengue </h1>\n",
    "<h2 align=\"center\"> <font color=\"blue\"> Aluno: Marcio Colazingari </h2>\n",
    "<br>\n",
    "<h2 align=\"center\"> <font color=\"green\"> Trabalho de Entrega do Curso Enap BootCamp </h2>\n",
    "<h2 align=\"center\"> Módulo 2 - Ciência de Dados </h2>\n",
    "<h2 align=\"center\"> Professor: Professor: Alex Lopes </h2> <br>\n",
    "<h3 align=\"center\"> <font color=\"brown\"> 2020, Escola Nacional de Administração Pública - Enap </h3> "
   ]
  },
  {
   "cell_type": "code",
   "execution_count": 49,
   "metadata": {},
   "outputs": [
    {
     "data": {
      "text/html": [
       "<h3> O objetivo deste trabalho será a Análise de Dados sobre a epidemia de dengue em 2 cidades da América Latina.</h3>\n",
       "<h3> Tratam-se de dois(02) arquivos no formato CSVs contendo dados extraídos do sítio da internet: </h3>\n",
       "<a href=\"https://www.drivendata.org/\" align=\"center\" target=\"popup\"><h2> DRIVEN DATA </h2> </a>\n",
       "<br>\n",
       "\n"
      ],
      "text/plain": [
       "<IPython.core.display.HTML object>"
      ]
     },
     "metadata": {},
     "output_type": "display_data"
    }
   ],
   "source": [
    "%%html\n",
    "<h3> O objetivo deste trabalho será a Análise de Dados sobre a epidemia de dengue em 2 cidades da América Latina.</h3>\n",
    "<h3> Tratam-se de dois(02) arquivos no formato CSVs contendo dados extraídos do sítio da internet: </h3>\n",
    "<a href=\"https://www.drivendata.org/\" align=\"center\" target=\"popup\"><h2> DRIVEN DATA </h2> </a>\n",
    "<br>\n",
    "\n"
   ]
  },
  {
   "cell_type": "code",
   "execution_count": 47,
   "metadata": {},
   "outputs": [
    {
     "data": {
      "text/html": [
       "<h2><font color=\"red\"> Dos dados: </h3> </font>\n",
       "<h3> Foram fornecidos dois arquivos CSVs contendo:<br>\n",
       "    1. informações climáticas e de geolocalização ; <br>\n",
       "    2. quantitativos do espalhamento da doença.</h3>\n",
       "<h3 align=\"left\"><font color=\"blue\"> Os dados serão analisados <br> com o uso de bibliotecas aprendidas no curso.<br>\n",
       "<font color=\"green\"> 1. <font color=\"red\"> Pandas e Numpy <font color=\"green\"> para a organização dos dados <br>\n",
       "2. <font color=\"green\">  <font color=\"red \">Matplotlib e Seaborn para a <font color=\"green\"> geração de gráficos.\n"
      ],
      "text/plain": [
       "<IPython.core.display.HTML object>"
      ]
     },
     "metadata": {},
     "output_type": "display_data"
    }
   ],
   "source": [
    "%%html\n",
    "<h2><font color=\"red\"> Dos dados: </h3> </font>\n",
    "<h3> Foram fornecidos dois arquivos CSVs contendo:<br>\n",
    "    1. informações climáticas e de geolocalização ; <br>\n",
    "    2. quantitativos do espalhamento da doença.</h3>\n",
    "<h3 align=\"left\"><font color=\"blue\"> Os dados serão analisados <br> com o uso de bibliotecas aprendidas no curso.<br>\n",
    "<font color=\"green\"> 1. <font color=\"red\"> Pandas e Numpy <font color=\"green\"> para a organização dos dados <br>\n",
    "2. <font color=\"green\">  <font color=\"red \">Matplotlib e Seaborn para a <font color=\"green\"> geração de gráficos.\n"
   ]
  },
  {
   "cell_type": "code",
   "execution_count": 50,
   "metadata": {},
   "outputs": [],
   "source": [
    "# Importação das bibliotecas\n",
    "import numpy as np\n",
    "import pandas as pd\n",
    "import matplotlib.pyplot as plt\n",
    "import seaborn as sns"
   ]
  },
  {
   "cell_type": "code",
   "execution_count": 51,
   "metadata": {},
   "outputs": [
    {
     "data": {
      "text/html": [
       "<h2 align=\"center\"> <font color = blue> Carregamento e preparação dos Dados CSVs </h2>\n"
      ],
      "text/plain": [
       "<IPython.core.display.HTML object>"
      ]
     },
     "metadata": {},
     "output_type": "display_data"
    }
   ],
   "source": [
    "%%html\n",
    "<h2 align=\"center\"> <font color = blue> Carregamento e preparação dos Dados CSVs </h2>"
   ]
  },
  {
   "cell_type": "code",
   "execution_count": null,
   "metadata": {},
   "outputs": [],
   "source": []
  }
 ],
 "metadata": {
  "kernelspec": {
   "display_name": "Python 3",
   "language": "python",
   "name": "python3"
  },
  "language_info": {
   "codemirror_mode": {
    "name": "ipython",
    "version": 3
   },
   "file_extension": ".py",
   "mimetype": "text/x-python",
   "name": "python",
   "nbconvert_exporter": "python",
   "pygments_lexer": "ipython3",
   "version": "3.8.3"
  }
 },
 "nbformat": 4,
 "nbformat_minor": 4
}
