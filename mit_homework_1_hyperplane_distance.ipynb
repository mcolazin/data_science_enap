{
 "cells": [
  {
   "cell_type": "code",
   "execution_count": 1,
   "metadata": {},
   "outputs": [],
   "source": [
    "import numpy as np"
   ]
  },
  {
   "cell_type": "code",
   "execution_count": 2,
   "metadata": {},
   "outputs": [],
   "source": [
    "# 1.2 - Code distance, x, theta, theta_0\n",
    "x = np.array([[1,3,5,2]]).T\n",
    "th = np.array([[5,4,7,2]]).T\n",
    "th0 = 5"
   ]
  },
  {
   "cell_type": "code",
   "execution_count": 3,
   "metadata": {},
   "outputs": [],
   "source": [
    "distance = ((np.dot(th.T ,x)+th0) / np.linalg.norm(th))"
   ]
  },
  {
   "cell_type": "code",
   "execution_count": 4,
   "metadata": {},
   "outputs": [
    {
     "data": {
      "text/plain": [
       "(1, 1)"
      ]
     },
     "execution_count": 4,
     "metadata": {},
     "output_type": "execute_result"
    }
   ],
   "source": [
    "distance.shape"
   ]
  },
  {
   "cell_type": "code",
   "execution_count": 5,
   "metadata": {},
   "outputs": [
    {
     "name": "stdout",
     "output_type": "stream",
     "text": [
      "[[1]]\n"
     ]
    }
   ],
   "source": [
    "# 1.3 classification - side of hyperplane\n",
    "def classification(distance):\n",
    "    if distance > 0:\n",
    "        return np.array([[1]])\n",
    "    elif distance == 0:\n",
    "        return np.array([[0]])\n",
    "    else:\n",
    "        return np.array([[-1]])\n",
    "print(classification(distance))"
   ]
  },
  {
   "cell_type": "code",
   "execution_count": 6,
   "metadata": {},
   "outputs": [],
   "source": [
    "# Ex 1.4 --- 1\n",
    "# definition of A as label 1 or 0 or -1 for each data point on a plane [0,0] -2\n",
    "data = np.transpose(np.array([[1, 2], [1, 3], [2, 1], [1, -1], [2, -1]]))\n",
    "th = np.array([[1, 1]]).T\n",
    "th0 = -2"
   ]
  },
  {
   "cell_type": "code",
   "execution_count": 7,
   "metadata": {},
   "outputs": [
    {
     "data": {
      "text/plain": [
       "array([[ 0.70710678,  1.41421356,  0.70710678, -1.41421356, -0.70710678]])"
      ]
     },
     "execution_count": 7,
     "metadata": {},
     "output_type": "execute_result"
    }
   ],
   "source": [
    "distance = ((np.dot(th.T ,data)+th0) / np.linalg.norm(th))\n",
    "distance"
   ]
  },
  {
   "cell_type": "code",
   "execution_count": 8,
   "metadata": {},
   "outputs": [],
   "source": [
    "classification_data = []\n",
    "for i in range(0,5):\n",
    "     classification_data.append(classification(distance[0][i]))\n",
    "# convert to 1,5 array\n",
    "predict_data = np.array(classification_data).reshape(1,5)"
   ]
  },
  {
   "cell_type": "code",
   "execution_count": 9,
   "metadata": {},
   "outputs": [
    {
     "data": {
      "text/plain": [
       "array([[ 1,  1,  1, -1, -1]])"
      ]
     },
     "execution_count": 9,
     "metadata": {},
     "output_type": "execute_result"
    }
   ],
   "source": [
    "predict_data"
   ]
  },
  {
   "cell_type": "code",
   "execution_count": 10,
   "metadata": {},
   "outputs": [],
   "source": [
    "# EX 1.4 - 2. Compare predicted wtih labels\n",
    "labels = np.array([[-1, -1, 1, 1, 1]])"
   ]
  },
  {
   "cell_type": "code",
   "execution_count": 11,
   "metadata": {},
   "outputs": [
    {
     "data": {
      "text/plain": [
       "array([[False, False,  True, False, False]])"
      ]
     },
     "execution_count": 11,
     "metadata": {},
     "output_type": "execute_result"
    }
   ],
   "source": [
    "evaluation = predict_data == labels\n",
    "evaluation"
   ]
  },
  {
   "cell_type": "code",
   "execution_count": 12,
   "metadata": {},
   "outputs": [
    {
     "data": {
      "text/plain": [
       "1"
      ]
     },
     "execution_count": 12,
     "metadata": {},
     "output_type": "execute_result"
    }
   ],
   "source": [
    "score = evaluation.sum() # Consider only the true values\n",
    "score\n",
    "### in this case its ok for 1/5 from data"
   ]
  },
  {
   "cell_type": "code",
   "execution_count": 13,
   "metadata": {},
   "outputs": [],
   "source": [
    "# Ex 1.6 - Whats the best separator (model) ?"
   ]
  },
  {
   "cell_type": "code",
   "execution_count": 43,
   "metadata": {},
   "outputs": [],
   "source": [
    "data = np.transpose(np.array([[1, 2], [1, 3], [2, 1], [1, -1], [2, -1]]))\n",
    "th = np.array([[1, 1],[2,2],[3,3],[1,2], [10,5]]).T\n",
    "th0 = np.array([[-2,2,0,3,-2]])\n",
    "labels = np.array([[-1, -1, 1, 1, 1]])"
   ]
  },
  {
   "cell_type": "code",
   "execution_count": 44,
   "metadata": {},
   "outputs": [
    {
     "name": "stdout",
     "output_type": "stream",
     "text": [
      "[[1 3 2 3 3]]\n"
     ]
    }
   ],
   "source": [
    "score = []\n",
    "for i in range(0, th0.shape[1]):\n",
    "    distance = ((np.dot(th[:,i].T ,data)+th0[0][i]) / np.linalg.norm(th[:,i]))\n",
    "    classification_data = []\n",
    "    for j in range(0,distance.shape[0]):\n",
    "         classification_data.append(classification(distance[j]))\n",
    "    predict_data = np.array(classification_data).reshape(1,5)\n",
    "    evaluation = predict_data == labels\n",
    "    score.append(evaluation.sum())\n",
    "score = np.array([score])\n",
    "print(score)"
   ]
  },
  {
   "cell_type": "code",
   "execution_count": 45,
   "metadata": {},
   "outputs": [],
   "source": [
    "#### create a score array, select the hiscore index and select the index theta and theta_0"
   ]
  },
  {
   "cell_type": "code",
   "execution_count": 107,
   "metadata": {},
   "outputs": [
    {
     "data": {
      "text/plain": [
       "[[[2], [2]], [[2]]]"
      ]
     },
     "execution_count": 107,
     "metadata": {},
     "output_type": "execute_result"
    }
   ],
   "source": [
    "# index of best score from 4 models on numpy array\n",
    "# apply this index to select the correct theta, theta_0 plane.\n",
    "best_model = np.array([[[th[:,score.argmax()][0]],[th[:,score.argmax()][1]]], \n",
    "                  [[th0[0][score.argmax()]]]]).tolist()\n",
    "best_model"
   ]
  }
 ],
 "metadata": {
  "kernelspec": {
   "display_name": "Python 3",
   "language": "python",
   "name": "python3"
  },
  "language_info": {
   "codemirror_mode": {
    "name": "ipython",
    "version": 3
   },
   "file_extension": ".py",
   "mimetype": "text/x-python",
   "name": "python",
   "nbconvert_exporter": "python",
   "pygments_lexer": "ipython3",
   "version": "3.8.3"
  }
 },
 "nbformat": 4,
 "nbformat_minor": 4
}
