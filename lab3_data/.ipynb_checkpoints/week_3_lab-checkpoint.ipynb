{
 "cells": [
  {
   "cell_type": "code",
   "execution_count": 1,
   "metadata": {},
   "outputs": [],
   "source": [
    "import numpy as np\n",
    "import pandas as pd"
   ]
  },
  {
   "cell_type": "code",
   "execution_count": 2,
   "metadata": {},
   "outputs": [
    {
     "data": {
      "text/html": [
       "<div>\n",
       "<style scoped>\n",
       "    .dataframe tbody tr th:only-of-type {\n",
       "        vertical-align: middle;\n",
       "    }\n",
       "\n",
       "    .dataframe tbody tr th {\n",
       "        vertical-align: top;\n",
       "    }\n",
       "\n",
       "    .dataframe thead th {\n",
       "        text-align: right;\n",
       "    }\n",
       "</style>\n",
       "<table border=\"1\" class=\"dataframe\">\n",
       "  <thead>\n",
       "    <tr style=\"text-align: right;\">\n",
       "      <th></th>\n",
       "      <th>mpg</th>\n",
       "      <th>cylinders</th>\n",
       "      <th>displacement</th>\n",
       "      <th>horsepower</th>\n",
       "      <th>weight</th>\n",
       "      <th>acceleration</th>\n",
       "      <th>model_year</th>\n",
       "      <th>origin</th>\n",
       "      <th>car_name</th>\n",
       "    </tr>\n",
       "  </thead>\n",
       "  <tbody>\n",
       "    <tr>\n",
       "      <th>0</th>\n",
       "      <td>-1</td>\n",
       "      <td>8</td>\n",
       "      <td>304.0</td>\n",
       "      <td>193</td>\n",
       "      <td>4732</td>\n",
       "      <td>18.5</td>\n",
       "      <td>70</td>\n",
       "      <td>1</td>\n",
       "      <td>hi 1200d</td>\n",
       "    </tr>\n",
       "    <tr>\n",
       "      <th>1</th>\n",
       "      <td>-1</td>\n",
       "      <td>8</td>\n",
       "      <td>307.0</td>\n",
       "      <td>200</td>\n",
       "      <td>4376</td>\n",
       "      <td>15.0</td>\n",
       "      <td>70</td>\n",
       "      <td>1</td>\n",
       "      <td>chevy c20</td>\n",
       "    </tr>\n",
       "    <tr>\n",
       "      <th>2</th>\n",
       "      <td>-1</td>\n",
       "      <td>8</td>\n",
       "      <td>360.0</td>\n",
       "      <td>215</td>\n",
       "      <td>4615</td>\n",
       "      <td>14.0</td>\n",
       "      <td>70</td>\n",
       "      <td>1</td>\n",
       "      <td>ford f250</td>\n",
       "    </tr>\n",
       "    <tr>\n",
       "      <th>3</th>\n",
       "      <td>-1</td>\n",
       "      <td>8</td>\n",
       "      <td>318.0</td>\n",
       "      <td>210</td>\n",
       "      <td>4382</td>\n",
       "      <td>13.5</td>\n",
       "      <td>70</td>\n",
       "      <td>1</td>\n",
       "      <td>dodge d200</td>\n",
       "    </tr>\n",
       "    <tr>\n",
       "      <th>4</th>\n",
       "      <td>-1</td>\n",
       "      <td>8</td>\n",
       "      <td>350.0</td>\n",
       "      <td>180</td>\n",
       "      <td>3664</td>\n",
       "      <td>11.0</td>\n",
       "      <td>73</td>\n",
       "      <td>1</td>\n",
       "      <td>oldsmobile omega</td>\n",
       "    </tr>\n",
       "    <tr>\n",
       "      <th>...</th>\n",
       "      <td>...</td>\n",
       "      <td>...</td>\n",
       "      <td>...</td>\n",
       "      <td>...</td>\n",
       "      <td>...</td>\n",
       "      <td>...</td>\n",
       "      <td>...</td>\n",
       "      <td>...</td>\n",
       "      <td>...</td>\n",
       "    </tr>\n",
       "    <tr>\n",
       "      <th>387</th>\n",
       "      <td>1</td>\n",
       "      <td>4</td>\n",
       "      <td>900.0</td>\n",
       "      <td>480</td>\n",
       "      <td>2335</td>\n",
       "      <td>23.7</td>\n",
       "      <td>80</td>\n",
       "      <td>2</td>\n",
       "      <td>vw dasher (diesel)</td>\n",
       "    </tr>\n",
       "    <tr>\n",
       "      <th>388</th>\n",
       "      <td>1</td>\n",
       "      <td>4</td>\n",
       "      <td>970.0</td>\n",
       "      <td>520</td>\n",
       "      <td>2130</td>\n",
       "      <td>24.6</td>\n",
       "      <td>82</td>\n",
       "      <td>2</td>\n",
       "      <td>vw pickup</td>\n",
       "    </tr>\n",
       "    <tr>\n",
       "      <th>389</th>\n",
       "      <td>1</td>\n",
       "      <td>4</td>\n",
       "      <td>900.0</td>\n",
       "      <td>480</td>\n",
       "      <td>2085</td>\n",
       "      <td>21.7</td>\n",
       "      <td>80</td>\n",
       "      <td>2</td>\n",
       "      <td>vw rabbit c (diesel)</td>\n",
       "    </tr>\n",
       "    <tr>\n",
       "      <th>390</th>\n",
       "      <td>1</td>\n",
       "      <td>4</td>\n",
       "      <td>910.0</td>\n",
       "      <td>670</td>\n",
       "      <td>1850</td>\n",
       "      <td>13.8</td>\n",
       "      <td>80</td>\n",
       "      <td>3</td>\n",
       "      <td>honda civic 1500 gl</td>\n",
       "    </tr>\n",
       "    <tr>\n",
       "      <th>391</th>\n",
       "      <td>1</td>\n",
       "      <td>4</td>\n",
       "      <td>860.0</td>\n",
       "      <td>650</td>\n",
       "      <td>2110</td>\n",
       "      <td>17.9</td>\n",
       "      <td>80</td>\n",
       "      <td>3</td>\n",
       "      <td>mazda glc</td>\n",
       "    </tr>\n",
       "  </tbody>\n",
       "</table>\n",
       "<p>392 rows × 9 columns</p>\n",
       "</div>"
      ],
      "text/plain": [
       "     mpg  cylinders  displacement  horsepower  weight  acceleration  \\\n",
       "0     -1          8         304.0         193    4732          18.5   \n",
       "1     -1          8         307.0         200    4376          15.0   \n",
       "2     -1          8         360.0         215    4615          14.0   \n",
       "3     -1          8         318.0         210    4382          13.5   \n",
       "4     -1          8         350.0         180    3664          11.0   \n",
       "..   ...        ...           ...         ...     ...           ...   \n",
       "387    1          4         900.0         480    2335          23.7   \n",
       "388    1          4         970.0         520    2130          24.6   \n",
       "389    1          4         900.0         480    2085          21.7   \n",
       "390    1          4         910.0         670    1850          13.8   \n",
       "391    1          4         860.0         650    2110          17.9   \n",
       "\n",
       "     model_year  origin              car_name  \n",
       "0            70       1              hi 1200d  \n",
       "1            70       1             chevy c20  \n",
       "2            70       1             ford f250  \n",
       "3            70       1            dodge d200  \n",
       "4            73       1      oldsmobile omega  \n",
       "..          ...     ...                   ...  \n",
       "387          80       2    vw dasher (diesel)  \n",
       "388          82       2             vw pickup  \n",
       "389          80       2  vw rabbit c (diesel)  \n",
       "390          80       3   honda civic 1500 gl  \n",
       "391          80       3             mazda glc  \n",
       "\n",
       "[392 rows x 9 columns]"
      ]
     },
     "execution_count": 2,
     "metadata": {},
     "output_type": "execute_result"
    }
   ],
   "source": [
    "auto_df = pd.read_table(\"auto-mpg.tsv\")\n",
    "auto_df"
   ]
  },
  {
   "cell_type": "code",
   "execution_count": 3,
   "metadata": {},
   "outputs": [
    {
     "data": {
      "text/plain": [
       "array([[-1, 8, 304.0, ..., 70, 1, 'hi 1200d'],\n",
       "       [-1, 8, 307.0, ..., 70, 1, 'chevy c20'],\n",
       "       [-1, 8, 360.0, ..., 70, 1, 'ford f250'],\n",
       "       ...,\n",
       "       [1, 4, 900.0, ..., 80, 2, 'vw rabbit c (diesel)'],\n",
       "       [1, 4, 910.0, ..., 80, 3, 'honda civic 1500 gl'],\n",
       "       [1, 4, 860.0, ..., 80, 3, 'mazda glc']], dtype=object)"
      ]
     },
     "execution_count": 3,
     "metadata": {},
     "output_type": "execute_result"
    }
   ],
   "source": [
    "np.array(pd.read_table(\"auto-mpg.tsv\"))"
   ]
  },
  {
   "cell_type": "code",
   "execution_count": 4,
   "metadata": {},
   "outputs": [
    {
     "data": {
      "text/plain": [
       "mpg               int64\n",
       "cylinders         int64\n",
       "displacement    float64\n",
       "horsepower        int64\n",
       "weight            int64\n",
       "acceleration    float64\n",
       "model_year        int64\n",
       "origin            int64\n",
       "car_name         object\n",
       "dtype: object"
      ]
     },
     "execution_count": 4,
     "metadata": {},
     "output_type": "execute_result"
    }
   ],
   "source": [
    "auto_df.dtypes"
   ]
  },
  {
   "cell_type": "code",
   "execution_count": 5,
   "metadata": {},
   "outputs": [
    {
     "data": {
      "text/plain": [
       "<matplotlib.axes._subplots.AxesSubplot at 0x7f3d35dcda00>"
      ]
     },
     "execution_count": 5,
     "metadata": {},
     "output_type": "execute_result"
    },
    {
     "data": {
      "image/png": "[encoded data removed]",
      "text/plain": [
       "<Figure size 432x288 with 1 Axes>"
      ]
     },
     "metadata": {
      "needs_background": "light"
     },
     "output_type": "display_data"
    }
   ],
   "source": [
    "auto_df.model_year.hist()"
   ]
  },
  {
   "cell_type": "code",
   "execution_count": 6,
   "metadata": {},
   "outputs": [],
   "source": [
    "# Question 1B:\n",
    "# Cylinders, try hot-ecnoder ;\n",
    "# displacement: try standard ;\n",
    "# horsepower: standard ;\n",
    "# weight: standard ;\n",
    "# acceleration: standard\n",
    "# model_year: drop\n",
    "# origin: one-hot."
   ]
  },
  {
   "cell_type": "code",
   "execution_count": 7,
   "metadata": {},
   "outputs": [],
   "source": [
    "# Question 1C:\n",
    "\n",
    "# for car_name: we can try encode with embbeding vectors"
   ]
  },
  {
   "cell_type": "code",
   "execution_count": 8,
   "metadata": {},
   "outputs": [],
   "source": [
    "# 1D first try to comute with the tirth option (train, test)\n",
    "# second, running 10-fold-cross validation"
   ]
  },
  {
   "cell_type": "code",
   "execution_count": null,
   "metadata": {},
   "outputs": [],
   "source": []
  },
  {
   "cell_type": "code",
   "execution_count": 9,
   "metadata": {},
   "outputs": [
    {
     "data": {
      "text/html": [
       "<div>\n",
       "<style scoped>\n",
       "    .dataframe tbody tr th:only-of-type {\n",
       "        vertical-align: middle;\n",
       "    }\n",
       "\n",
       "    .dataframe tbody tr th {\n",
       "        vertical-align: top;\n",
       "    }\n",
       "\n",
       "    .dataframe thead th {\n",
       "        text-align: right;\n",
       "    }\n",
       "</style>\n",
       "<table border=\"1\" class=\"dataframe\">\n",
       "  <thead>\n",
       "    <tr style=\"text-align: right;\">\n",
       "      <th></th>\n",
       "      <th>sentiment</th>\n",
       "      <th>productId</th>\n",
       "      <th>userId</th>\n",
       "      <th>summary</th>\n",
       "      <th>text</th>\n",
       "      <th>helpfulY</th>\n",
       "      <th>helpfulN</th>\n",
       "    </tr>\n",
       "  </thead>\n",
       "  <tbody>\n",
       "    <tr>\n",
       "      <th>0</th>\n",
       "      <td>-1</td>\n",
       "      <td>B001E5E1KA</td>\n",
       "      <td>A3BPS5Z69S82MV</td>\n",
       "      <td>Dissappointed</td>\n",
       "      <td>I bought this product, because it's slightly l...</td>\n",
       "      <td>2</td>\n",
       "      <td>1</td>\n",
       "    </tr>\n",
       "    <tr>\n",
       "      <th>1</th>\n",
       "      <td>-1</td>\n",
       "      <td>B001CPQPXI</td>\n",
       "      <td>A1WCT6YAYIWLRV</td>\n",
       "      <td>Hard as rocks</td>\n",
       "      <td>Unless your dog is younger and has great teeth...</td>\n",
       "      <td>0</td>\n",
       "      <td>0</td>\n",
       "    </tr>\n",
       "    <tr>\n",
       "      <th>2</th>\n",
       "      <td>-1</td>\n",
       "      <td>B00654I0XE</td>\n",
       "      <td>A45NFCAENHRMD</td>\n",
       "      <td>Some products contained gluten.</td>\n",
       "      <td>I wouldn't recommend this to a celiac buyer. A...</td>\n",
       "      <td>0</td>\n",
       "      <td>1</td>\n",
       "    </tr>\n",
       "    <tr>\n",
       "      <th>3</th>\n",
       "      <td>-1</td>\n",
       "      <td>B000FBM480</td>\n",
       "      <td>A1FEP94TP15RG0</td>\n",
       "      <td>These \"Butter Leaves\" are addictively wonderful!</td>\n",
       "      <td>Amazon sends you TWELVE boxes of these fabulou...</td>\n",
       "      <td>0</td>\n",
       "      <td>11</td>\n",
       "    </tr>\n",
       "    <tr>\n",
       "      <th>4</th>\n",
       "      <td>-1</td>\n",
       "      <td>B002KB2CMG</td>\n",
       "      <td>A31CQ4G2QFVMDE</td>\n",
       "      <td>Oregon versus Turkey</td>\n",
       "      <td>I bought a bag of the Oregon hazelnuts and a b...</td>\n",
       "      <td>0</td>\n",
       "      <td>0</td>\n",
       "    </tr>\n",
       "    <tr>\n",
       "      <th>...</th>\n",
       "      <td>...</td>\n",
       "      <td>...</td>\n",
       "      <td>...</td>\n",
       "      <td>...</td>\n",
       "      <td>...</td>\n",
       "      <td>...</td>\n",
       "      <td>...</td>\n",
       "    </tr>\n",
       "    <tr>\n",
       "      <th>9995</th>\n",
       "      <td>-1</td>\n",
       "      <td>B001UOJGNM</td>\n",
       "      <td>A1SXUCZYHQVMY</td>\n",
       "      <td>Pretty good</td>\n",
       "      <td>My bottle arrived early and I was very excited...</td>\n",
       "      <td>1</td>\n",
       "      <td>0</td>\n",
       "    </tr>\n",
       "    <tr>\n",
       "      <th>9996</th>\n",
       "      <td>-1</td>\n",
       "      <td>B003QU2LYY</td>\n",
       "      <td>A2EHF9TF8XG4UI</td>\n",
       "      <td>Just Okay</td>\n",
       "      <td>Nothing spectacular.  It wasn't as sweet as I'...</td>\n",
       "      <td>0</td>\n",
       "      <td>0</td>\n",
       "    </tr>\n",
       "    <tr>\n",
       "      <th>9997</th>\n",
       "      <td>1</td>\n",
       "      <td>B000N8N45W</td>\n",
       "      <td>A1D63A1P3SVYTU</td>\n",
       "      <td>Convenient, Healthy Meal Option</td>\n",
       "      <td>This is perfect for the office.  No refrigerat...</td>\n",
       "      <td>2</td>\n",
       "      <td>0</td>\n",
       "    </tr>\n",
       "    <tr>\n",
       "      <th>9998</th>\n",
       "      <td>1</td>\n",
       "      <td>B001EO7NJ2</td>\n",
       "      <td>A30MN8FL7ZS1UF</td>\n",
       "      <td>DELICIOUS !</td>\n",
       "      <td>This licorice is sooooo good. Soft, very flavo...</td>\n",
       "      <td>2</td>\n",
       "      <td>0</td>\n",
       "    </tr>\n",
       "    <tr>\n",
       "      <th>9999</th>\n",
       "      <td>-1</td>\n",
       "      <td>B007OXJJE4</td>\n",
       "      <td>AJ7OOG8EDBZY4</td>\n",
       "      <td>disappointed, but then do any of the K cups ta...</td>\n",
       "      <td>Why do all those K Cups taste like instant cof...</td>\n",
       "      <td>0</td>\n",
       "      <td>3</td>\n",
       "    </tr>\n",
       "  </tbody>\n",
       "</table>\n",
       "<p>10000 rows × 7 columns</p>\n",
       "</div>"
      ],
      "text/plain": [
       "      sentiment   productId          userId  \\\n",
       "0            -1  B001E5E1KA  A3BPS5Z69S82MV   \n",
       "1            -1  B001CPQPXI  A1WCT6YAYIWLRV   \n",
       "2            -1  B00654I0XE   A45NFCAENHRMD   \n",
       "3            -1  B000FBM480  A1FEP94TP15RG0   \n",
       "4            -1  B002KB2CMG  A31CQ4G2QFVMDE   \n",
       "...         ...         ...             ...   \n",
       "9995         -1  B001UOJGNM   A1SXUCZYHQVMY   \n",
       "9996         -1  B003QU2LYY  A2EHF9TF8XG4UI   \n",
       "9997          1  B000N8N45W  A1D63A1P3SVYTU   \n",
       "9998          1  B001EO7NJ2  A30MN8FL7ZS1UF   \n",
       "9999         -1  B007OXJJE4   AJ7OOG8EDBZY4   \n",
       "\n",
       "                                                summary  \\\n",
       "0                                         Dissappointed   \n",
       "1                                         Hard as rocks   \n",
       "2                       Some products contained gluten.   \n",
       "3      These \"Butter Leaves\" are addictively wonderful!   \n",
       "4                                  Oregon versus Turkey   \n",
       "...                                                 ...   \n",
       "9995                                        Pretty good   \n",
       "9996                                          Just Okay   \n",
       "9997                    Convenient, Healthy Meal Option   \n",
       "9998                                        DELICIOUS !   \n",
       "9999  disappointed, but then do any of the K cups ta...   \n",
       "\n",
       "                                                   text  helpfulY  helpfulN  \n",
       "0     I bought this product, because it's slightly l...         2         1  \n",
       "1     Unless your dog is younger and has great teeth...         0         0  \n",
       "2     I wouldn't recommend this to a celiac buyer. A...         0         1  \n",
       "3     Amazon sends you TWELVE boxes of these fabulou...         0        11  \n",
       "4     I bought a bag of the Oregon hazelnuts and a b...         0         0  \n",
       "...                                                 ...       ...       ...  \n",
       "9995  My bottle arrived early and I was very excited...         1         0  \n",
       "9996  Nothing spectacular.  It wasn't as sweet as I'...         0         0  \n",
       "9997  This is perfect for the office.  No refrigerat...         2         0  \n",
       "9998  This licorice is sooooo good. Soft, very flavo...         2         0  \n",
       "9999  Why do all those K Cups taste like instant cof...         0         3  \n",
       "\n",
       "[10000 rows x 7 columns]"
      ]
     },
     "execution_count": 9,
     "metadata": {},
     "output_type": "execute_result"
    }
   ],
   "source": [
    "# LAB - FEATURE ENGINEER FOR FOOD REVIEW\n",
    "food_review_df = pd.read_table(\"reviews.tsv\")\n",
    "food_review_df"
   ]
  },
  {
   "cell_type": "code",
   "execution_count": 10,
   "metadata": {},
   "outputs": [],
   "source": [
    "# Question 2 C. Theres a difficult in bag of words to put the words on order.\n",
    "# Because this model just sign the presence of word in a sentence."
   ]
  },
  {
   "cell_type": "code",
   "execution_count": 11,
   "metadata": {},
   "outputs": [],
   "source": [
    "# Q. 2D. Before the dictionary coding, its is important to remove conjunctions and stop words\n"
   ]
  },
  {
   "cell_type": "code",
   "execution_count": null,
   "metadata": {},
   "outputs": [],
   "source": []
  },
  {
   "cell_type": "code",
   "execution_count": 12,
   "metadata": {},
   "outputs": [],
   "source": [
    "# PART 3 . Images Features"
   ]
  },
  {
   "cell_type": "code",
   "execution_count": 13,
   "metadata": {},
   "outputs": [],
   "source": [
    "# Q. 3C\n",
    "# Representing a 2D figure into a simple vector will be more difficult, because we dont \n",
    "#have a row and collum reference . Its difficult to delimiter the point between rows and\n",
    "# columns."
   ]
  },
  {
   "cell_type": "code",
   "execution_count": 16,
   "metadata": {},
   "outputs": [],
   "source": [
    "# Q. 3D -\n",
    "# In this moment i see the best form of figure representation with a matrix element."
   ]
  },
  {
   "cell_type": "code",
   "execution_count": null,
   "metadata": {},
   "outputs": [],
   "source": []
  },
  {
   "cell_type": "code",
   "execution_count": 15,
   "metadata": {},
   "outputs": [],
   "source": [
    "# SOUND FEATURES"
   ]
  },
  {
   "cell_type": "code",
   "execution_count": null,
   "metadata": {},
   "outputs": [],
   "source": [
    "#Q 4A. We can input time step as feature vector and amplitude as label vector."
   ]
  },
  {
   "cell_type": "code",
   "execution_count": 18,
   "metadata": {},
   "outputs": [],
   "source": [
    "# Q 4B.\n",
    "# you can work in a domain frequency vs amplitude. On another way it is possible to work in\n",
    "# time domain. In this case, label is the amplitude."
   ]
  },
  {
   "cell_type": "code",
   "execution_count": null,
   "metadata": {},
   "outputs": [],
   "source": []
  },
  {
   "cell_type": "code",
   "execution_count": null,
   "metadata": {},
   "outputs": [],
   "source": []
  },
  {
   "cell_type": "code",
   "execution_count": null,
   "metadata": {},
   "outputs": [],
   "source": []
  }
 ],
 "metadata": {
  "kernelspec": {
   "display_name": "Python 3",
   "language": "python",
   "name": "python3"
  },
  "language_info": {
   "codemirror_mode": {
    "name": "ipython",
    "version": 3
   },
   "file_extension": ".py",
   "mimetype": "text/x-python",
   "name": "python",
   "nbconvert_exporter": "python",
   "pygments_lexer": "ipython3",
   "version": "3.8.3"
  }
 },
 "nbformat": 4,
 "nbformat_minor": 4
}
