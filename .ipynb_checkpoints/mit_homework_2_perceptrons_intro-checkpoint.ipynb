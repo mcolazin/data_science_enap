{
 "cells": [
  {
   "cell_type": "code",
   "execution_count": null,
   "metadata": {},
   "outputs": [],
   "source": [
    "import numpy as np"
   ]
  },
  {
   "cell_type": "code",
   "execution_count": null,
   "metadata": {},
   "outputs": [],
   "source": [
    "# Exercise 1. about error:\n",
    "# example\n",
    "x = np.array([[1,-1], [0,1], [-1.5, -1]]).T\n",
    "y = np.array([[1], [-1], [1]])\n",
    "th = np.array([[0,0]]).T"
   ]
  },
  {
   "cell_type": "code",
   "execution_count": null,
   "metadata": {},
   "outputs": [],
   "source": [
    "y * np.dot(th.T,x) > 0 # this represent an error by 3.1 document definition"
   ]
  },
  {
   "cell_type": "code",
   "execution_count": null,
   "metadata": {},
   "outputs": [],
   "source": [
    "# theta renew until the correct value: (dot(th,x > 0))\n",
    "th_new = th + y[0]*x[:,0]"
   ]
  },
  {
   "cell_type": "code",
   "execution_count": null,
   "metadata": {},
   "outputs": [],
   "source": [
    "th_new"
   ]
  },
  {
   "cell_type": "code",
   "execution_count": null,
   "metadata": {},
   "outputs": [],
   "source": [
    "# Question 1\n",
    "x = np.array([[1,-1], [0,1], [-1.5, -1]]).T\n",
    "y = np.array([[1], [-1], [1]])\n",
    "th = np.array([0,0]).T\n",
    "error = 0\n",
    "for i in range(0,3):\n",
    "    test = True\n",
    "    while (test==True):\n",
    "        if (y[i]*(np.dot(th.T,x[:,i]))) <= 0:\n",
    "            th = th + (y[i]*x[:,i])\n",
    "            error = error + 1\n",
    "            print(i)\n",
    "            print(th)\n",
    "            print(error)\n",
    "        else:\n",
    "            test = False\n",
    "            print(\"b\")\n",
    "print(f\"Número de erros = {error}\")"
   ]
  },
  {
   "cell_type": "code",
   "execution_count": null,
   "metadata": {},
   "outputs": [],
   "source": [
    "# Question 1.1 c\n",
    "x = np.array([[0, 1], [-1.5, -1], [1, -1]]).T\n",
    "y = np.array([[-1],[1], [1]])\n",
    "th = np.array([0,0]).T\n",
    "error = 0\n",
    "for i in range(0,3):\n",
    "    test = True\n",
    "    while (test==True):\n",
    "        if (y[i]*(np.dot(th.T,x[:,i]))) <= 0:\n",
    "            th = th + (y[i]*x[:,i])\n",
    "            error = error + 1\n",
    "            print(i)\n",
    "            print(th)\n",
    "            print(error)\n",
    "        else:\n",
    "            test = False\n",
    "            print(\"b\")\n",
    "print(f\"Número de erros = {error}\")"
   ]
  },
  {
   "cell_type": "code",
   "execution_count": null,
   "metadata": {},
   "outputs": [],
   "source": [
    "# Question 1.2a\n",
    "x = np.array([[0,1], [-10, -1],[1,-1]]).T\n",
    "y = np.array([[-1], [1], [1]])\n",
    "th = np.array([0,0]).T\n",
    "error = 0\n",
    "for i in range(0,3):\n",
    "    test = True\n",
    "    while (test==True):\n",
    "        if (y[i]*(np.dot(th.T,x[:,i]))) <= 0:\n",
    "            th = th + (y[i]*x[:,i])\n",
    "            error = error + 1\n",
    "            print(i)\n",
    "            print(th)\n",
    "            print(error)\n",
    "        else:\n",
    "            test = False\n",
    "            print(\"stop\")\n",
    "print(f\"Número de erros = {error}\")"
   ]
  },
  {
   "cell_type": "code",
   "execution_count": null,
   "metadata": {},
   "outputs": [],
   "source": [
    "# Exercicio 2 - inicialização"
   ]
  },
  {
   "cell_type": "code",
   "execution_count": null,
   "metadata": {
    "scrolled": true
   },
   "outputs": [],
   "source": [
    "# Question 2.1\n",
    "x = np.array([[0,1], [-10, -1],[1,-1]]).T\n",
    "y = np.array([[-1], [1], [1]])\n",
    "th = np.array([1000,-1000]).T\n",
    "error = 0\n",
    "for i in range(0,3):\n",
    "    test = True\n",
    "    while (test==True):\n",
    "        if (y[i]*(np.dot(th.T,x[:,i]))) <= 0:\n",
    "            th = th + (y[i]*x[:,i])\n",
    "            error = error + 1\n",
    "            print(i)\n",
    "            print(th)\n",
    "            print(error)\n",
    "        else:\n",
    "            test = False\n",
    "            print(\"stop\")\n",
    "print(f\"Número de erros = {error}\")"
   ]
  },
  {
   "cell_type": "code",
   "execution_count": null,
   "metadata": {},
   "outputs": [],
   "source": [
    "# Q 2.2\n",
    "x = np.array([[1,-1], [0,1], [-1.5, -1]]).T\n",
    "y = np.array([[1], [-1], [1]])\n",
    "th = np.array([1,1]).T\n",
    "error = 0\n",
    "for i in range(0,3):\n",
    "    test = True\n",
    "    while (test==True):\n",
    "        if (y[i]*(np.dot(th.T,x[:,i]))) <= 0:\n",
    "            th = th + (y[i]*x[:,i])\n",
    "            error = error + 1\n",
    "            print(i)\n",
    "            print(th)\n",
    "            print(error)\n",
    "        else:\n",
    "            test = False\n",
    "            print(\"b\")\n",
    "print(f\"Número de erros = {error}\")"
   ]
  },
  {
   "cell_type": "code",
   "execution_count": null,
   "metadata": {},
   "outputs": [],
   "source": [
    "# 3 Dual View"
   ]
  },
  {
   "cell_type": "code",
   "execution_count": null,
   "metadata": {},
   "outputs": [],
   "source": [
    "# Q 3-1\n",
    "x = np.array([[-3,2], [-1,1], [-1,-1], [2,2], [1,-1]]).T\n",
    "y = np.array([[1], [-1], [-1], [-1], [-1]])\n",
    "th_0 = np.array([[0]])\n",
    "th = np.array([0,0]).T\n",
    "error = 0\n",
    "\n",
    "for i in range(0,5):\n",
    "    test = True\n",
    "    while (test==True):\n",
    "        print(f\"theta: {th}\")\n",
    "        print(f\"x: {x[:,i]}\")\n",
    "        if (y[i]*(np.dot(th.T,x[:,i]) + th_0)) <= 0:\n",
    "            th = th + (y[i] * x[:,i])\n",
    "            print(f\"x: {x[:,i]}\")\n",
    "            th_0 = th_0 + y[i]\n",
    "            error = error + 1\n",
    "            print(f\"i: {i}\")\n",
    "            print(f\"th: {th}\")\n",
    "            print(f\"error: {error}\")\n",
    "        else:\n",
    "            test = False\n",
    "            print(\"stop\")\n",
    "print(f\"Número de erros = {error}\")"
   ]
  },
  {
   "cell_type": "code",
   "execution_count": null,
   "metadata": {},
   "outputs": [],
   "source": [
    "# Q 3.2 - theta_0 \n",
    "x = np.array([[-3,2], [-1,1], [-1,-1], [2,2], [1,-1]]).T\n",
    "y = np.array([[1], [-1], [-1], [-1], [-1]])\n",
    "error = np.array([[2],[4],[2],[1],[0]])\n",
    "th_0 = 0\n",
    "\n",
    "for i in range(0,5):\n",
    "    th_0 = th_0+y[i]*error[i]\n",
    "print(th_0)\n"
   ]
  },
  {
   "cell_type": "code",
   "execution_count": null,
   "metadata": {},
   "outputs": [],
   "source": [
    "# Q 4.1.b\n",
    "x = np.array[[(0,0,0),(0,0,1),(0,1,0),(0,1,1),(1,0,0),(1,0,1),(1,1,0),(1,1,1)]]\n",
    "# true aswer is none"
   ]
  },
  {
   "cell_type": "code",
   "execution_count": null,
   "metadata": {},
   "outputs": [],
   "source": [
    "x"
   ]
  },
  {
   "cell_type": "code",
   "execution_count": null,
   "metadata": {},
   "outputs": [],
   "source": [
    "# Q 4.1C\n",
    "x = np.array([[0,0,0],[0,0,1],[0,1,0],[0,1,1],[1,0,0],[1,0,1],[1,1,0],[1,1,1]]).T\n",
    "th = np.array([[1,1,1]])\n",
    "th_0 = (np.dot(th, x))\n",
    "th_0"
   ]
  },
  {
   "cell_type": "code",
   "execution_count": null,
   "metadata": {},
   "outputs": [],
   "source": [
    "np.linalg.norm(th_0)"
   ]
  },
  {
   "cell_type": "code",
   "execution_count": null,
   "metadata": {
    "scrolled": true
   },
   "outputs": [],
   "source": [
    "x = np.array([[-1,1], [1,-1], [1,1], [2,2]]).T\n",
    "y = np.array([[1], [1], [-1], [-1]])\n",
    "th_0 = np.array([[0]])\n",
    "th = np.array([0,0]).T\n",
    "error = 0\n",
    "\n",
    "for i in range(0,4):\n",
    "    test = True\n",
    "    while (test==True):\n",
    "        print(f\"theta: {th}\")\n",
    "        print(f\"x: {x[:,i]}\")\n",
    "        if (y[i]*(np.dot(th.T,x[:,i]) + th_0)) <= 0:\n",
    "            th = th + (y[i] * x[:,i])\n",
    "            print(f\"x: {x[:,i]}\")\n",
    "            th_0 = th_0 + y[i]\n",
    "            error = error + 1\n",
    "            print(f\"i: {i}\")\n",
    "            print(f\"th: {th}\")\n",
    "            print(f\"error: {error}\")\n",
    "        else:\n",
    "            test = False\n",
    "            print(\"stop\")\n",
    "print(f\"Número de erros = {error}\")"
   ]
  },
  {
   "cell_type": "code",
   "execution_count": null,
   "metadata": {},
   "outputs": [],
   "source": [
    "th, th_0"
   ]
  },
  {
   "cell_type": "code",
   "execution_count": null,
   "metadata": {},
   "outputs": [],
   "source": [
    "# Q 5 separations\n",
    "import matplotlib.pyplot as plt\n",
    "import seaborn as sns\n",
    "import pandas as pd"
   ]
  },
  {
   "cell_type": "code",
   "execution_count": null,
   "metadata": {},
   "outputs": [],
   "source": [
    "# Q 5.1\n",
    "x = np.array([[1,-1], [1,1], [2,-1], [2,1]])\n",
    "z = np.array([[-1], [1], [1], [-1]])"
   ]
  },
  {
   "cell_type": "code",
   "execution_count": null,
   "metadata": {},
   "outputs": [],
   "source": [
    "def separator(x,z):\n",
    "    plt.figure(figsize=(10,6))\n",
    "    sns.scatterplot(x=pd.DataFrame(x)[0], y=pd.DataFrame(x)[1], hue=pd.DataFrame(z)[0])"
   ]
  },
  {
   "cell_type": "code",
   "execution_count": null,
   "metadata": {},
   "outputs": [],
   "source": [
    "separator(x,z)"
   ]
  },
  {
   "cell_type": "code",
   "execution_count": null,
   "metadata": {},
   "outputs": [],
   "source": [
    "# Q 5.2\n",
    "x = np.array([[1,-1], [1,1], [2,-1], [2,1]])\n",
    "z = np.array([[1], [1], [-1], [-1]])"
   ]
  },
  {
   "cell_type": "code",
   "execution_count": null,
   "metadata": {},
   "outputs": [],
   "source": [
    "separator(x,z)"
   ]
  },
  {
   "cell_type": "code",
   "execution_count": null,
   "metadata": {},
   "outputs": [],
   "source": [
    "x = np.array([[1,-1, 1], [1,1,1], [2,-1, 1], [2,1,1]])\n",
    "z = np.array([[1], [1], [-1], [-1]])"
   ]
  },
  {
   "cell_type": "code",
   "execution_count": null,
   "metadata": {},
   "outputs": [],
   "source": [
    "# Question 6.1\n",
    "def gamma_function(theta, x, y):\n",
    "    gamma = y * (np.dot(theta.T, x) / np.linalg.norm(theta))\n",
    "    return gamma\n",
    "\n",
    "\n"
   ]
  },
  {
   "cell_type": "code",
   "execution_count": 1,
   "metadata": {},
   "outputs": [],
   "source": [
    "# Q. 6.2\n",
    "import numpy as np"
   ]
  },
  {
   "cell_type": "code",
   "execution_count": 3,
   "metadata": {},
   "outputs": [],
   "source": [
    "r = np.array([1])\n",
    "g = np.array([.00001, .0001, .001, .01, .1, .2, .5])"
   ]
  },
  {
   "cell_type": "code",
   "execution_count": 5,
   "metadata": {},
   "outputs": [],
   "source": [
    "def mistakes(r, gamma):\n",
    "    n_mistakes = (r / gamma)**2\n",
    "    return n_mistakes"
   ]
  },
  {
   "cell_type": "code",
   "execution_count": 7,
   "metadata": {},
   "outputs": [],
   "source": [
    "result = mistakes(r, g)"
   ]
  },
  {
   "cell_type": "code",
   "execution_count": 9,
   "metadata": {
    "scrolled": true
   },
   "outputs": [
    {
     "data": {
      "text/plain": [
       "[9999999999.999996, 100000000.0, 1000000.0, 10000.0, 100.0, 25.0, 4.0]"
      ]
     },
     "execution_count": 9,
     "metadata": {},
     "output_type": "execute_result"
    }
   ],
   "source": [
    "result.tolist()"
   ]
  },
  {
   "cell_type": "code",
   "execution_count": null,
   "metadata": {},
   "outputs": [],
   "source": []
  }
 ],
 "metadata": {
  "kernelspec": {
   "display_name": "Python 3",
   "language": "python",
   "name": "python3"
  },
  "language_info": {
   "codemirror_mode": {
    "name": "ipython",
    "version": 3
   },
   "file_extension": ".py",
   "mimetype": "text/x-python",
   "name": "python",
   "nbconvert_exporter": "python",
   "pygments_lexer": "ipython3",
   "version": "3.8.3"
  }
 },
 "nbformat": 4,
 "nbformat_minor": 4
}
