{
 "cells": [
  {
   "cell_type": "code",
   "execution_count": 1,
   "metadata": {},
   "outputs": [],
   "source": [
    "import numpy as np"
   ]
  },
  {
   "cell_type": "code",
   "execution_count": 2,
   "metadata": {},
   "outputs": [],
   "source": [
    "# Exercise 1. about error:\n",
    "# example\n",
    "x = np.array([[1,-1], [0,1], [-1.5, -1]]).T\n",
    "y = np.array([[1], [-1], [1]])\n",
    "th = np.array([[0,0]]).T"
   ]
  },
  {
   "cell_type": "code",
   "execution_count": 3,
   "metadata": {},
   "outputs": [
    {
     "data": {
      "text/plain": [
       "array([[False, False, False],\n",
       "       [False, False, False],\n",
       "       [False, False, False]])"
      ]
     },
     "execution_count": 3,
     "metadata": {},
     "output_type": "execute_result"
    }
   ],
   "source": [
    "y * np.dot(th.T,x) > 0 # this represent an error by 3.1 document definition"
   ]
  },
  {
   "cell_type": "code",
   "execution_count": 4,
   "metadata": {},
   "outputs": [],
   "source": [
    "# theta renew until the correct value: (dot(th,x > 0))\n",
    "th_new = th + y[0]*x[:,0]"
   ]
  },
  {
   "cell_type": "code",
   "execution_count": 5,
   "metadata": {},
   "outputs": [
    {
     "data": {
      "text/plain": [
       "array([[ 1., -1.],\n",
       "       [ 1., -1.]])"
      ]
     },
     "execution_count": 5,
     "metadata": {},
     "output_type": "execute_result"
    }
   ],
   "source": [
    "th_new"
   ]
  },
  {
   "cell_type": "code",
   "execution_count": 6,
   "metadata": {},
   "outputs": [
    {
     "name": "stdout",
     "output_type": "stream",
     "text": [
      "0\n",
      "[ 1. -1.]\n",
      "1\n",
      "b\n",
      "b\n",
      "2\n",
      "[-0.5 -2. ]\n",
      "2\n",
      "b\n",
      "Número de erros = 2\n"
     ]
    }
   ],
   "source": [
    "# Question 1\n",
    "x = np.array([[1,-1], [0,1], [-1.5, -1]]).T\n",
    "y = np.array([[1], [-1], [1]])\n",
    "th = np.array([0,0]).T\n",
    "error = 0\n",
    "for i in range(0,3):\n",
    "    test = True\n",
    "    while (test==True):\n",
    "        if (y[i]*(np.dot(th.T,x[:,i]))) <= 0:\n",
    "            th = th + (y[i]*x[:,i])\n",
    "            error = error + 1\n",
    "            print(i)\n",
    "            print(th)\n",
    "            print(error)\n",
    "        else:\n",
    "            test = False\n",
    "            print(\"b\")\n",
    "print(f\"Número de erros = {error}\")"
   ]
  },
  {
   "cell_type": "code",
   "execution_count": 7,
   "metadata": {},
   "outputs": [
    {
     "name": "stdout",
     "output_type": "stream",
     "text": [
      "0\n",
      "[ 0. -1.]\n",
      "1\n",
      "b\n",
      "b\n",
      "b\n",
      "Número de erros = 1\n"
     ]
    }
   ],
   "source": [
    "# Question 1.1 c\n",
    "x = np.array([[0, 1], [-1.5, -1], [1, -1]]).T\n",
    "y = np.array([[-1],[1], [1]])\n",
    "th = np.array([0,0]).T\n",
    "error = 0\n",
    "for i in range(0,3):\n",
    "    test = True\n",
    "    while (test==True):\n",
    "        if (y[i]*(np.dot(th.T,x[:,i]))) <= 0:\n",
    "            th = th + (y[i]*x[:,i])\n",
    "            error = error + 1\n",
    "            print(i)\n",
    "            print(th)\n",
    "            print(error)\n",
    "        else:\n",
    "            test = False\n",
    "            print(\"b\")\n",
    "print(f\"Número de erros = {error}\")"
   ]
  },
  {
   "cell_type": "code",
   "execution_count": 8,
   "metadata": {},
   "outputs": [
    {
     "name": "stdout",
     "output_type": "stream",
     "text": [
      "0\n",
      "[ 0 -1]\n",
      "1\n",
      "stop\n",
      "stop\n",
      "stop\n",
      "Número de erros = 1\n"
     ]
    }
   ],
   "source": [
    "# Question 1.2a\n",
    "x = np.array([[0,1], [-10, -1],[1,-1]]).T\n",
    "y = np.array([[-1], [1], [1]])\n",
    "th = np.array([0,0]).T\n",
    "error = 0\n",
    "for i in range(0,3):\n",
    "    test = True\n",
    "    while (test==True):\n",
    "        if (y[i]*(np.dot(th.T,x[:,i]))) <= 0:\n",
    "            th = th + (y[i]*x[:,i])\n",
    "            error = error + 1\n",
    "            print(i)\n",
    "            print(th)\n",
    "            print(error)\n",
    "        else:\n",
    "            test = False\n",
    "            print(\"stop\")\n",
    "print(f\"Número de erros = {error}\")"
   ]
  },
  {
   "cell_type": "code",
   "execution_count": 9,
   "metadata": {},
   "outputs": [],
   "source": [
    "# Exercicio 2 - inicialização"
   ]
  },
  {
   "cell_type": "code",
   "execution_count": 10,
   "metadata": {
    "scrolled": true
   },
   "outputs": [
    {
     "name": "stdout",
     "output_type": "stream",
     "text": [
      "stop\n",
      "1\n",
      "[  990 -1001]\n",
      "1\n",
      "1\n",
      "[  980 -1002]\n",
      "2\n",
      "1\n",
      "[  970 -1003]\n",
      "3\n",
      "1\n",
      "[  960 -1004]\n",
      "4\n",
      "1\n",
      "[  950 -1005]\n",
      "5\n",
      "1\n",
      "[  940 -1006]\n",
      "6\n",
      "1\n",
      "[  930 -1007]\n",
      "7\n",
      "1\n",
      "[  920 -1008]\n",
      "8\n",
      "1\n",
      "[  910 -1009]\n",
      "9\n",
      "1\n",
      "[  900 -1010]\n",
      "10\n",
      "1\n",
      "[  890 -1011]\n",
      "11\n",
      "1\n",
      "[  880 -1012]\n",
      "12\n",
      "1\n",
      "[  870 -1013]\n",
      "13\n",
      "1\n",
      "[  860 -1014]\n",
      "14\n",
      "1\n",
      "[  850 -1015]\n",
      "15\n",
      "1\n",
      "[  840 -1016]\n",
      "16\n",
      "1\n",
      "[  830 -1017]\n",
      "17\n",
      "1\n",
      "[  820 -1018]\n",
      "18\n",
      "1\n",
      "[  810 -1019]\n",
      "19\n",
      "1\n",
      "[  800 -1020]\n",
      "20\n",
      "1\n",
      "[  790 -1021]\n",
      "21\n",
      "1\n",
      "[  780 -1022]\n",
      "22\n",
      "1\n",
      "[  770 -1023]\n",
      "23\n",
      "1\n",
      "[  760 -1024]\n",
      "24\n",
      "1\n",
      "[  750 -1025]\n",
      "25\n",
      "1\n",
      "[  740 -1026]\n",
      "26\n",
      "1\n",
      "[  730 -1027]\n",
      "27\n",
      "1\n",
      "[  720 -1028]\n",
      "28\n",
      "1\n",
      "[  710 -1029]\n",
      "29\n",
      "1\n",
      "[  700 -1030]\n",
      "30\n",
      "1\n",
      "[  690 -1031]\n",
      "31\n",
      "1\n",
      "[  680 -1032]\n",
      "32\n",
      "1\n",
      "[  670 -1033]\n",
      "33\n",
      "1\n",
      "[  660 -1034]\n",
      "34\n",
      "1\n",
      "[  650 -1035]\n",
      "35\n",
      "1\n",
      "[  640 -1036]\n",
      "36\n",
      "1\n",
      "[  630 -1037]\n",
      "37\n",
      "1\n",
      "[  620 -1038]\n",
      "38\n",
      "1\n",
      "[  610 -1039]\n",
      "39\n",
      "1\n",
      "[  600 -1040]\n",
      "40\n",
      "1\n",
      "[  590 -1041]\n",
      "41\n",
      "1\n",
      "[  580 -1042]\n",
      "42\n",
      "1\n",
      "[  570 -1043]\n",
      "43\n",
      "1\n",
      "[  560 -1044]\n",
      "44\n",
      "1\n",
      "[  550 -1045]\n",
      "45\n",
      "1\n",
      "[  540 -1046]\n",
      "46\n",
      "1\n",
      "[  530 -1047]\n",
      "47\n",
      "1\n",
      "[  520 -1048]\n",
      "48\n",
      "1\n",
      "[  510 -1049]\n",
      "49\n",
      "1\n",
      "[  500 -1050]\n",
      "50\n",
      "1\n",
      "[  490 -1051]\n",
      "51\n",
      "1\n",
      "[  480 -1052]\n",
      "52\n",
      "1\n",
      "[  470 -1053]\n",
      "53\n",
      "1\n",
      "[  460 -1054]\n",
      "54\n",
      "1\n",
      "[  450 -1055]\n",
      "55\n",
      "1\n",
      "[  440 -1056]\n",
      "56\n",
      "1\n",
      "[  430 -1057]\n",
      "57\n",
      "1\n",
      "[  420 -1058]\n",
      "58\n",
      "1\n",
      "[  410 -1059]\n",
      "59\n",
      "1\n",
      "[  400 -1060]\n",
      "60\n",
      "1\n",
      "[  390 -1061]\n",
      "61\n",
      "1\n",
      "[  380 -1062]\n",
      "62\n",
      "1\n",
      "[  370 -1063]\n",
      "63\n",
      "1\n",
      "[  360 -1064]\n",
      "64\n",
      "1\n",
      "[  350 -1065]\n",
      "65\n",
      "1\n",
      "[  340 -1066]\n",
      "66\n",
      "1\n",
      "[  330 -1067]\n",
      "67\n",
      "1\n",
      "[  320 -1068]\n",
      "68\n",
      "1\n",
      "[  310 -1069]\n",
      "69\n",
      "1\n",
      "[  300 -1070]\n",
      "70\n",
      "1\n",
      "[  290 -1071]\n",
      "71\n",
      "1\n",
      "[  280 -1072]\n",
      "72\n",
      "1\n",
      "[  270 -1073]\n",
      "73\n",
      "1\n",
      "[  260 -1074]\n",
      "74\n",
      "1\n",
      "[  250 -1075]\n",
      "75\n",
      "1\n",
      "[  240 -1076]\n",
      "76\n",
      "1\n",
      "[  230 -1077]\n",
      "77\n",
      "1\n",
      "[  220 -1078]\n",
      "78\n",
      "1\n",
      "[  210 -1079]\n",
      "79\n",
      "1\n",
      "[  200 -1080]\n",
      "80\n",
      "1\n",
      "[  190 -1081]\n",
      "81\n",
      "1\n",
      "[  180 -1082]\n",
      "82\n",
      "1\n",
      "[  170 -1083]\n",
      "83\n",
      "1\n",
      "[  160 -1084]\n",
      "84\n",
      "1\n",
      "[  150 -1085]\n",
      "85\n",
      "1\n",
      "[  140 -1086]\n",
      "86\n",
      "1\n",
      "[  130 -1087]\n",
      "87\n",
      "1\n",
      "[  120 -1088]\n",
      "88\n",
      "1\n",
      "[  110 -1089]\n",
      "89\n",
      "1\n",
      "[  100 -1090]\n",
      "90\n",
      "stop\n",
      "stop\n",
      "Número de erros = 90\n"
     ]
    }
   ],
   "source": [
    "# Question 2.1\n",
    "x = np.array([[0,1], [-10, -1],[1,-1]]).T\n",
    "y = np.array([[-1], [1], [1]])\n",
    "th = np.array([1000,-1000]).T\n",
    "error = 0\n",
    "for i in range(0,3):\n",
    "    test = True\n",
    "    while (test==True):\n",
    "        if (y[i]*(np.dot(th.T,x[:,i]))) <= 0:\n",
    "            th = th + (y[i]*x[:,i])\n",
    "            error = error + 1\n",
    "            print(i)\n",
    "            print(th)\n",
    "            print(error)\n",
    "        else:\n",
    "            test = False\n",
    "            print(\"stop\")\n",
    "print(f\"Número de erros = {error}\")"
   ]
  },
  {
   "cell_type": "code",
   "execution_count": 11,
   "metadata": {},
   "outputs": [
    {
     "name": "stdout",
     "output_type": "stream",
     "text": [
      "0\n",
      "[2. 0.]\n",
      "1\n",
      "b\n",
      "1\n",
      "[ 2. -1.]\n",
      "2\n",
      "b\n",
      "2\n",
      "[ 0.5 -2. ]\n",
      "3\n",
      "b\n",
      "Número de erros = 3\n"
     ]
    }
   ],
   "source": [
    "# Q 2.2\n",
    "x = np.array([[1,-1], [0,1], [-1.5, -1]]).T\n",
    "y = np.array([[1], [-1], [1]])\n",
    "th = np.array([1,1]).T\n",
    "error = 0\n",
    "for i in range(0,3):\n",
    "    test = True\n",
    "    while (test==True):\n",
    "        if (y[i]*(np.dot(th.T,x[:,i]))) <= 0:\n",
    "            th = th + (y[i]*x[:,i])\n",
    "            error = error + 1\n",
    "            print(i)\n",
    "            print(th)\n",
    "            print(error)\n",
    "        else:\n",
    "            test = False\n",
    "            print(\"b\")\n",
    "print(f\"Número de erros = {error}\")"
   ]
  },
  {
   "cell_type": "code",
   "execution_count": 12,
   "metadata": {},
   "outputs": [],
   "source": [
    "# 3 Dual View"
   ]
  },
  {
   "cell_type": "code",
   "execution_count": 14,
   "metadata": {},
   "outputs": [
    {
     "name": "stdout",
     "output_type": "stream",
     "text": [
      "theta: [0 0]\n",
      "x: [-3  2]\n",
      "x: [-3  2]\n",
      "i: 0\n",
      "th: [-3  2]\n",
      "error: 1\n",
      "theta: [-3  2]\n",
      "x: [-3  2]\n",
      "stop\n",
      "theta: [-3  2]\n",
      "x: [-1  1]\n",
      "x: [-1  1]\n",
      "i: 1\n",
      "th: [-2  1]\n",
      "error: 2\n",
      "theta: [-2  1]\n",
      "x: [-1  1]\n",
      "x: [-1  1]\n",
      "i: 1\n",
      "th: [-1  0]\n",
      "error: 3\n",
      "theta: [-1  0]\n",
      "x: [-1  1]\n",
      "x: [-1  1]\n",
      "i: 1\n",
      "th: [ 0 -1]\n",
      "error: 4\n",
      "theta: [ 0 -1]\n",
      "x: [-1  1]\n",
      "stop\n",
      "theta: [ 0 -1]\n",
      "x: [-1 -1]\n",
      "stop\n",
      "theta: [ 0 -1]\n",
      "x: [2 2]\n",
      "stop\n",
      "theta: [ 0 -1]\n",
      "x: [ 1 -1]\n",
      "stop\n",
      "Número de erros = 4\n"
     ]
    }
   ],
   "source": [
    "# Q 3-1\n",
    "x = np.array([[-3,2], [-1,1], [-1,-1], [2,2], [1,-1]]).T\n",
    "y = np.array([[1], [-1], [-1], [-1], [-1]])\n",
    "th_0 = np.array([[0]])\n",
    "th = np.array([0,0]).T\n",
    "error = 0\n",
    "\n",
    "for i in range(0,5):\n",
    "    test = True\n",
    "    while (test==True):\n",
    "        print(f\"theta: {th}\")\n",
    "        print(f\"x: {x[:,i]}\")\n",
    "        if (y[i]*(np.dot(th.T,x[:,i]) + th_0)) <= 0:\n",
    "            th = th + (y[i] * x[:,i])\n",
    "            print(f\"x: {x[:,i]}\")\n",
    "            th_0 = th_0 + y[i]\n",
    "            error = error + 1\n",
    "            print(f\"i: {i}\")\n",
    "            print(f\"th: {th}\")\n",
    "            print(f\"error: {error}\")\n",
    "        else:\n",
    "            test = False\n",
    "            print(\"stop\")\n",
    "print(f\"Número de erros = {error}\")"
   ]
  },
  {
   "cell_type": "code",
   "execution_count": 27,
   "metadata": {},
   "outputs": [
    {
     "name": "stdout",
     "output_type": "stream",
     "text": [
      "[-5]\n"
     ]
    }
   ],
   "source": [
    "# Q 3.2 - theta_0 \n",
    "x = np.array([[-3,2], [-1,1], [-1,-1], [2,2], [1,-1]]).T\n",
    "y = np.array([[1], [-1], [-1], [-1], [-1]])\n",
    "error = np.array([[2],[4],[2],[1],[0]])\n",
    "th_0 = 0\n",
    "\n",
    "for i in range(0,5):\n",
    "    th_0 = th_0+y[i]*error[i]\n",
    "print(th_0)\n"
   ]
  },
  {
   "cell_type": "code",
   "execution_count": 29,
   "metadata": {},
   "outputs": [
    {
     "ename": "TypeError",
     "evalue": "'builtin_function_or_method' object is not subscriptable",
     "output_type": "error",
     "traceback": [
      "\u001b[0;31m---------------------------------------------------------------------------\u001b[0m",
      "\u001b[0;31mTypeError\u001b[0m                                 Traceback (most recent call last)",
      "\u001b[0;32m<ipython-input-29-e860ba290deb>\u001b[0m in \u001b[0;36m<module>\u001b[0;34m\u001b[0m\n\u001b[1;32m      1\u001b[0m \u001b[0;31m# Q 4.1.b\u001b[0m\u001b[0;34m\u001b[0m\u001b[0;34m\u001b[0m\u001b[0;34m\u001b[0m\u001b[0m\n\u001b[0;32m----> 2\u001b[0;31m \u001b[0mx\u001b[0m \u001b[0;34m=\u001b[0m \u001b[0mnp\u001b[0m\u001b[0;34m.\u001b[0m\u001b[0marray\u001b[0m\u001b[0;34m[\u001b[0m\u001b[0;34m[\u001b[0m\u001b[0;34m(\u001b[0m\u001b[0;36m0\u001b[0m\u001b[0;34m,\u001b[0m\u001b[0;36m0\u001b[0m\u001b[0;34m,\u001b[0m\u001b[0;36m0\u001b[0m\u001b[0;34m)\u001b[0m\u001b[0;34m,\u001b[0m\u001b[0;34m(\u001b[0m\u001b[0;36m0\u001b[0m\u001b[0;34m,\u001b[0m\u001b[0;36m0\u001b[0m\u001b[0;34m,\u001b[0m\u001b[0;36m1\u001b[0m\u001b[0;34m)\u001b[0m\u001b[0;34m,\u001b[0m\u001b[0;34m(\u001b[0m\u001b[0;36m0\u001b[0m\u001b[0;34m,\u001b[0m\u001b[0;36m1\u001b[0m\u001b[0;34m,\u001b[0m\u001b[0;36m0\u001b[0m\u001b[0;34m)\u001b[0m\u001b[0;34m,\u001b[0m\u001b[0;34m(\u001b[0m\u001b[0;36m0\u001b[0m\u001b[0;34m,\u001b[0m\u001b[0;36m1\u001b[0m\u001b[0;34m,\u001b[0m\u001b[0;36m1\u001b[0m\u001b[0;34m)\u001b[0m\u001b[0;34m,\u001b[0m\u001b[0;34m(\u001b[0m\u001b[0;36m1\u001b[0m\u001b[0;34m,\u001b[0m\u001b[0;36m0\u001b[0m\u001b[0;34m,\u001b[0m\u001b[0;36m0\u001b[0m\u001b[0;34m)\u001b[0m\u001b[0;34m,\u001b[0m\u001b[0;34m(\u001b[0m\u001b[0;36m1\u001b[0m\u001b[0;34m,\u001b[0m\u001b[0;36m0\u001b[0m\u001b[0;34m,\u001b[0m\u001b[0;36m1\u001b[0m\u001b[0;34m)\u001b[0m\u001b[0;34m,\u001b[0m\u001b[0;34m(\u001b[0m\u001b[0;36m1\u001b[0m\u001b[0;34m,\u001b[0m\u001b[0;36m1\u001b[0m\u001b[0;34m,\u001b[0m\u001b[0;36m0\u001b[0m\u001b[0;34m)\u001b[0m\u001b[0;34m,\u001b[0m\u001b[0;34m(\u001b[0m\u001b[0;36m1\u001b[0m\u001b[0;34m,\u001b[0m\u001b[0;36m1\u001b[0m\u001b[0;34m,\u001b[0m\u001b[0;36m1\u001b[0m\u001b[0;34m)\u001b[0m\u001b[0;34m]\u001b[0m\u001b[0;34m]\u001b[0m\u001b[0;34m\u001b[0m\u001b[0;34m\u001b[0m\u001b[0m\n\u001b[0m\u001b[1;32m      3\u001b[0m \u001b[0;36m1\u001b[0m\u001b[0;34m/\u001b[0m\u001b[0mx\u001b[0m\u001b[0;34m\u001b[0m\u001b[0;34m\u001b[0m\u001b[0m\n",
      "\u001b[0;31mTypeError\u001b[0m: 'builtin_function_or_method' object is not subscriptable"
     ]
    }
   ],
   "source": [
    "# Q 4.1.b\n",
    "x = np.array[[(0,0,0),(0,0,1),(0,1,0),(0,1,1),(1,0,0),(1,0,1),(1,1,0),(1,1,1)]]\n",
    "# true aswer is none"
   ]
  },
  {
   "cell_type": "code",
   "execution_count": 30,
   "metadata": {},
   "outputs": [
    {
     "data": {
      "text/plain": [
       "array([[-3, -1, -1,  2,  1],\n",
       "       [ 2,  1, -1,  2, -1]])"
      ]
     },
     "execution_count": 30,
     "metadata": {},
     "output_type": "execute_result"
    }
   ],
   "source": [
    "x"
   ]
  },
  {
   "cell_type": "code",
   "execution_count": 68,
   "metadata": {},
   "outputs": [
    {
     "data": {
      "text/plain": [
       "array([[0, 1, 1, 2, 1, 2, 2, 3]])"
      ]
     },
     "execution_count": 68,
     "metadata": {},
     "output_type": "execute_result"
    }
   ],
   "source": [
    "# Q 4.1C\n",
    "x = np.array([[0,0,0],[0,0,1],[0,1,0],[0,1,1],[1,0,0],[1,0,1],[1,1,0],[1,1,1]]).T\n",
    "th = np.array([[1,1,1]])\n",
    "th_0 = (np.dot(th, x))\n",
    "th_0"
   ]
  },
  {
   "cell_type": "code",
   "execution_count": 69,
   "metadata": {},
   "outputs": [
    {
     "data": {
      "text/plain": [
       "4.898979485566356"
      ]
     },
     "execution_count": 69,
     "metadata": {},
     "output_type": "execute_result"
    }
   ],
   "source": [
    "np.linalg.norm(th_0)"
   ]
  },
  {
   "cell_type": "code",
   "execution_count": 70,
   "metadata": {
    "scrolled": true
   },
   "outputs": [
    {
     "name": "stdout",
     "output_type": "stream",
     "text": [
      "theta: [0 0]\n",
      "x: [-1  1]\n",
      "x: [-1  1]\n",
      "i: 0\n",
      "th: [-1  1]\n",
      "error: 1\n",
      "theta: [-1  1]\n",
      "x: [-1  1]\n",
      "stop\n",
      "theta: [-1  1]\n",
      "x: [ 1 -1]\n",
      "x: [ 1 -1]\n",
      "i: 1\n",
      "th: [0 0]\n",
      "error: 2\n",
      "theta: [0 0]\n",
      "x: [ 1 -1]\n",
      "stop\n",
      "theta: [0 0]\n",
      "x: [1 1]\n",
      "x: [1 1]\n",
      "i: 2\n",
      "th: [-1 -1]\n",
      "error: 3\n",
      "theta: [-1 -1]\n",
      "x: [1 1]\n",
      "stop\n",
      "theta: [-1 -1]\n",
      "x: [2 2]\n",
      "stop\n",
      "Número de erros = 3\n"
     ]
    }
   ],
   "source": [
    "x = np.array([[-1,1], [1,-1], [1,1], [2,2]]).T\n",
    "y = np.array([[1], [1], [-1], [-1]])\n",
    "th_0 = np.array([[0]])\n",
    "th = np.array([0,0]).T\n",
    "error = 0\n",
    "\n",
    "for i in range(0,4):\n",
    "    test = True\n",
    "    while (test==True):\n",
    "        print(f\"theta: {th}\")\n",
    "        print(f\"x: {x[:,i]}\")\n",
    "        if (y[i]*(np.dot(th.T,x[:,i]) + th_0)) <= 0:\n",
    "            th = th + (y[i] * x[:,i])\n",
    "            print(f\"x: {x[:,i]}\")\n",
    "            th_0 = th_0 + y[i]\n",
    "            error = error + 1\n",
    "            print(f\"i: {i}\")\n",
    "            print(f\"th: {th}\")\n",
    "            print(f\"error: {error}\")\n",
    "        else:\n",
    "            test = False\n",
    "            print(\"stop\")\n",
    "print(f\"Número de erros = {error}\")"
   ]
  },
  {
   "cell_type": "code",
   "execution_count": 71,
   "metadata": {},
   "outputs": [
    {
     "data": {
      "text/plain": [
       "(array([-1, -1]), array([[1]]))"
      ]
     },
     "execution_count": 71,
     "metadata": {},
     "output_type": "execute_result"
    }
   ],
   "source": [
    "th, th_0"
   ]
  },
  {
   "cell_type": "code",
   "execution_count": null,
   "metadata": {},
   "outputs": [],
   "source": []
  }
 ],
 "metadata": {
  "kernelspec": {
   "display_name": "Python 3",
   "language": "python",
   "name": "python3"
  },
  "language_info": {
   "codemirror_mode": {
    "name": "ipython",
    "version": 3
   },
   "file_extension": ".py",
   "mimetype": "text/x-python",
   "name": "python",
   "nbconvert_exporter": "python",
   "pygments_lexer": "ipython3",
   "version": "3.8.3"
  }
 },
 "nbformat": 4,
 "nbformat_minor": 4
}
