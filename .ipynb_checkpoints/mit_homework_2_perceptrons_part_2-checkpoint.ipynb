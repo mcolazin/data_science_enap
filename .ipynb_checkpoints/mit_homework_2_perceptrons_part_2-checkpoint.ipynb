{
 "cells": [
  {
   "cell_type": "code",
   "execution_count": 76,
   "metadata": {},
   "outputs": [],
   "source": [
    "import pdb\n",
    "import operator\n",
    "import itertools\n",
    "\n",
    "import numpy as np\n",
    "import matplotlib.pyplot as plt\n",
    "\n",
    "from matplotlib import colors"
   ]
  },
  {
   "cell_type": "code",
   "execution_count": 77,
   "metadata": {},
   "outputs": [],
   "source": [
    "# Implement Perceptron Algoritm\n",
    "\n",
    "def perceptron(data, labels, params={}, hook=None):\n",
    "    # if T not in params, default to 100\n",
    "    T = params.get('T', 100)\n",
    "\n",
    "    # Your implementation here\n",
    "    d, n = data.shape\n",
    "    theta = np.zeros((d,1))\n",
    "    theta_0 = np.array([[0]])\n",
    "    \n",
    "    for t in range(T):\n",
    "        for i in range(n):\n",
    "            y = labels[0,i]\n",
    "            x = data[:, i]\n",
    "            \n",
    "            a = np.dot(x, theta) + theta_0\n",
    "            positive = np.sign(y*a)\n",
    "            \n",
    "            if np.sign(y*a) <= 0:\n",
    "                theta[:,0] = theta[:,0] + y*x\n",
    "                theta_0 = theta_0 + y\n",
    "    return(theta, theta_0)"
   ]
  },
  {
   "cell_type": "code",
   "execution_count": 99,
   "metadata": {},
   "outputs": [],
   "source": [
    "# Implement Average Perceptron\n",
    "\n",
    "def averaged_perceptron(data, labels, params={}, hook=None):\n",
    "    # if T not in params, default to 100\n",
    "    T = params.get('T', 100)\n",
    "\n",
    "    # Your implementation here\n",
    "    d, n = data.shape\n",
    "    theta = np.zeros((d,1))\n",
    "    theta_0 = np.zeros([1,1])\n",
    "    ths = np.zeros((d,1))\n",
    "    th0s = np.zeros([1,1])\n",
    "    \n",
    "    for t in range(T):\n",
    "        for i in range(n):\n",
    "            y = labels[0,i]\n",
    "            x = data[:, i]\n",
    "            \n",
    "            a = np.dot(x, theta) + theta_0\n",
    "            positive = np.sign(y*a)\n",
    "            \n",
    "            if np.sign(y*a) <= 0:\n",
    "                theta[:,0] = theta[:,0] + y*x\n",
    "                theta_0 = theta_0 + y\n",
    "            \n",
    "            ths += theta\n",
    "            th0s += theta_0\n",
    "            \n",
    "    return(ths / (n*T), th0s / (n*T))"
   ]
  },
  {
   "cell_type": "code",
   "execution_count": 79,
   "metadata": {},
   "outputs": [],
   "source": [
    "# Exercise 9.2 - Evaluating\n",
    "import numpy as np\n",
    "\n",
    "def eval_classifier(learner, data_train, labels_train, data_test, labels_test):\n",
    "    theta, theta_0 = learner(data_train, labels_train)\n",
    "    model = np.matmul(data_test.T, theta) + theta_0\n",
    "    predict_labels = np.transpose(np.sign(model))\n",
    "    scores = predict_labels == labels_test\n",
    "    final_scores = np.mean(scores)\n",
    "    return final_scores"
   ]
  },
  {
   "cell_type": "code",
   "execution_count": 80,
   "metadata": {},
   "outputs": [],
   "source": [
    "# Exercise 9.2 - evaluating algoritm with a data source\n",
    "import numpy as np\n",
    "\n",
    "def eval_learning_alg(learner, data_gen, n_train, n_test, it):\n",
    "    score = 0\n",
    "    for iter in range(it):\n",
    "        data_train, labels_train = data_gen(n_train)\n",
    "        data_test, labels_test = data_gen(n_test) \n",
    "        score_i = eval_classifier(learner, data_train, labels_train, data_test, labels_test)\n",
    "        score += score_i\n",
    "    return (score / it)\n",
    "    \n"
   ]
  },
  {
   "cell_type": "code",
   "execution_count": 81,
   "metadata": {},
   "outputs": [],
   "source": [
    "import numpy as np\n",
    "\n",
    "def xval_learning_alg(learner, data, labels, k):\n",
    "    d_split = np.array_split(data, k)\n",
    "    l_split = np.array_split(labels, k)\n",
    "    score_sum = 0\n",
    "    for i in range(k):\n",
    "        data_train = np.concatenate(d_split[:i] + d_split[i+1:], axis=1)\n",
    "        labels_train = np.concatenate(l_split[:i] + l_split[i+1:], axis=1)\n",
    "        data_test = np.array(d_split[i])\n",
    "        labels_test = np.array(l_split[i])\n",
    "        score_sum += eval_classifier(learner, data_train, labels_train, data_test, labels_test)\n",
    "    return score_sum / k"
   ]
  },
  {
   "cell_type": "code",
   "execution_count": 82,
   "metadata": {},
   "outputs": [
    {
     "data": {
      "text/html": [
       "<h2> Testing Block </h2>\n"
      ],
      "text/plain": [
       "<IPython.core.display.HTML object>"
      ]
     },
     "metadata": {},
     "output_type": "display_data"
    }
   ],
   "source": [
    "%%html\n",
    "<h2> Testing Block </h2>"
   ]
  },
  {
   "cell_type": "code",
   "execution_count": 89,
   "metadata": {},
   "outputs": [],
   "source": [
    "# function to generate data and labels\n",
    "def gen_lin_separable(num_points=20, th=np.array([[3],[4]]), th_0=np.array([[0]]), dim=2):\n",
    "    ''' \n",
    "    Generate linearly separable dataset X, y given theta and theta0\n",
    "    Return X, y where\n",
    "    X is a numpy array where each column represents a dim-dimensional data point\n",
    "    y is a column vector of 1s and -1s\n",
    "    '''\n",
    "    X = np.random.uniform(low=-5, high=5, size=(dim, num_points))\n",
    "    y = np.sign(np.dot(np.transpose(th), X) + th_0)\n",
    "    return X, y\n",
    "\n",
    "\n",
    "def gen_flipped_lin_separable(num_points=20, pflip=0.25, th=np.array([[3],[4]]), th_0=np.array([[0]]), dim=2):\n",
    "    '''\n",
    "    Generate difficult (usually not linearly separable) data sets by\n",
    "    \"flipping\" labels with some probability.\n",
    "    Returns a method which takes num_points and flips labels with pflip\n",
    "    '''\n",
    "    def flip_generator(num_points=20):\n",
    "        X, y = gen_lin_separable(num_points, th, th_0, dim)\n",
    "        flip = np.random.uniform(low=0, high=1, size=(num_points,))\n",
    "        for i in range(num_points):\n",
    "            if flip[i] < pflip: y[0,i] = -y[0,i]\n",
    "        return X, y\n",
    "    return flip_generator\n"
   ]
  },
  {
   "cell_type": "code",
   "execution_count": 101,
   "metadata": {},
   "outputs": [
    {
     "name": "stdout",
     "output_type": "stream",
     "text": [
      "0.6475\n"
     ]
    }
   ],
   "source": [
    "# Accuracy for perceptron with pflip=0.1:\n",
    "print(eval_learning_alg(averaged_perceptron,gen_flipped_lin_separable(num_points=20,pflip=0.25),20,20,100))"
   ]
  },
  {
   "cell_type": "code",
   "execution_count": null,
   "metadata": {},
   "outputs": [],
   "source": []
  }
 ],
 "metadata": {
  "kernelspec": {
   "display_name": "Python 3",
   "language": "python",
   "name": "python3"
  },
  "language_info": {
   "codemirror_mode": {
    "name": "ipython",
    "version": 3
   },
   "file_extension": ".py",
   "mimetype": "text/x-python",
   "name": "python",
   "nbconvert_exporter": "python",
   "pygments_lexer": "ipython3",
   "version": "3.8.3"
  }
 },
 "nbformat": 4,
 "nbformat_minor": 4
}
