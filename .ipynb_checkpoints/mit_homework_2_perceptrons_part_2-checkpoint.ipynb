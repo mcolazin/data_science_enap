{
 "cells": [
  {
   "cell_type": "code",
   "execution_count": 2,
   "metadata": {},
   "outputs": [],
   "source": [
    "import pdb\n",
    "import operator\n",
    "import itertools\n",
    "\n",
    "import numpy as np\n",
    "import matplotlib.pyplot as plt\n",
    "\n",
    "from matplotlib import colors"
   ]
  },
  {
   "cell_type": "code",
   "execution_count": 1,
   "metadata": {},
   "outputs": [],
   "source": [
    "# Implement Perceptron Algoritm\n",
    "\n",
    "def perceptron(data, labels, params={}, hook=None):\n",
    "    # if T not in params, default to 100\n",
    "    T = params.get('T', 100)\n",
    "\n",
    "    # Your implementation here\n",
    "    d, n = data.shape\n",
    "    theta = np.zeros((d,1))\n",
    "    theta_0 = np.array([[0]])\n",
    "    \n",
    "    for t in range(T):\n",
    "        for i in range(n):\n",
    "            y = labels[0,i]\n",
    "            x = data[:, i]\n",
    "            \n",
    "            a = np.dot(x, theta) + theta_0\n",
    "            positive = np.sign(y*a)\n",
    "            \n",
    "            if np.sign(y*a) <= 0:\n",
    "                theta[:,0] = theta[:,0] + y*x\n",
    "                theta_0 = theta_0 + y\n",
    "    return(theta, theta_0)"
   ]
  },
  {
   "cell_type": "code",
   "execution_count": 2,
   "metadata": {},
   "outputs": [],
   "source": [
    "# Implement Average Perceptron\n",
    "\n",
    "def averaged_perceptron(data, labels, params={}, hook=None):\n",
    "    # if T not in params, default to 100\n",
    "    T = params.get('T', 100)\n",
    "\n",
    "    # Your implementation here\n",
    "    d, n = data.shape\n",
    "    theta = np.zeros((d,1))\n",
    "    theta_0 = np.array([[0]])\n",
    "    ths = np.zeros((d,1))\n",
    "    th0s = np.array([[0]])\n",
    "    \n",
    "    for t in range(T):\n",
    "        for i in range(n):\n",
    "            y = labels[0,i]\n",
    "            x = data[:, i]\n",
    "            \n",
    "            a = np.dot(x, theta) + theta_0\n",
    "            positive = np.sign(y*a)\n",
    "            \n",
    "            if np.sign(y*a) <= 0:\n",
    "                theta[:,0] = theta[:,0] + y*x\n",
    "                theta_0 = theta_0 + y\n",
    "            \n",
    "            ths += theta\n",
    "            th0s += theta_0\n",
    "            \n",
    "    return(ths / (n*T), th0s / (n*T))"
   ]
  },
  {
   "cell_type": "code",
   "execution_count": 13,
   "metadata": {},
   "outputs": [],
   "source": [
    "# Exercise 9.2 - Evaluating\n",
    "import numpy as np\n",
    "\n",
    "def eval_classifier(learner, data_train, labels_train, data_test, labels_test):\n",
    "    theta, theta_0 = learner(data_train, labels_train)\n",
    "    model = np.matmul(data_test.T, theta) + theta_0\n",
    "    predict_labels = np.transpose(np.sign(model))\n",
    "    scores = predict_labels == labels_test\n",
    "    final_scores = np.mean(scores)\n",
    "    return final_scores"
   ]
  },
  {
   "cell_type": "code",
   "execution_count": 2,
   "metadata": {},
   "outputs": [],
   "source": [
    "# Exercise 9.2 - evaluating algoritm with a data source\n",
    "import numpy as np\n",
    "\n",
    "def eval_learning_alg(learner, data_gen, n_train, n_test, it):\n",
    "    score = 0\n",
    "    for iter in range(it):\n",
    "        data_train, labels_train = data_gen(n_train)\n",
    "        data_test, labels_test = data_gen(n_test) \n",
    "        score_i = eval_classifier(learner, data_train, labels_train, data_test, labels_test)\n",
    "        score += score_i\n",
    "    return (score / it)\n",
    "    \n"
   ]
  },
  {
   "cell_type": "code",
   "execution_count": 14,
   "metadata": {},
   "outputs": [],
   "source": [
    "import numpy as np\n",
    "\n",
    "def xval_learning_alg(learner, data, labels, k):\n",
    "    d_split = np.array_split(data, k)\n",
    "    l_split = np.array_split(labels, k)\n",
    "    score_sum = 0\n",
    "    for i in range(k):\n",
    "        data_train = np.concatenate(d_split[:i] + d_split[i+1:], axis=1)\n",
    "        labels_train = np.concatenate(l_split[:i] + l_split[i+1:], axis=1)\n",
    "        data_test = np.array(d_split[i])\n",
    "        labels_test = np.array(l_split[i])\n",
    "        score_sum += eval_classifier(learner, data_train, labels_train, data_test, labels_test)\n",
    "    return score_sum / k"
   ]
  },
  {
   "cell_type": "code",
   "execution_count": null,
   "metadata": {},
   "outputs": [],
   "source": []
  }
 ],
 "metadata": {
  "kernelspec": {
   "display_name": "Python 3",
   "language": "python",
   "name": "python3"
  },
  "language_info": {
   "codemirror_mode": {
    "name": "ipython",
    "version": 3
   },
   "file_extension": ".py",
   "mimetype": "text/x-python",
   "name": "python",
   "nbconvert_exporter": "python",
   "pygments_lexer": "ipython3",
   "version": "3.8.3"
  }
 },
 "nbformat": 4,
 "nbformat_minor": 4
}
